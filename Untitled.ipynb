{
 "cells": [
  {
   "cell_type": "code",
   "execution_count": null,
   "metadata": {},
   "outputs": [],
   "source": [
    "import re, tweepy, json, dataset\n",
    "from textblob import TextBlob\n",
    "from sqlalchemy.exc import ProgrammingError\n",
    "\n",
    "# Connect to database / create database\n",
    "db = dataset.connect(\"sqlite:///.vscode/kcemenike.db\")\n",
    "\n",
    "# Get API keys from twitter.json\n",
    "with open(\".vscode/twitter.json\") as f:\n",
    "    twitter_api = json.load(f)\n",
    "\n",
    "CONSUMER_KEY = twitter_api['API']['CONSUMER_KEY']\n",
    "CONSUMER_SECRET = twitter_api['API']['CONSUMER_SECRET']\n",
    "ACCESS_KEY = twitter_api['API']['ACCESS_KEY']\n",
    "ACCESS_SECRET = twitter_api['API']['ACCESS_SECRET']\n",
    "\n",
    "# Setup api object to connect to Twitter\n",
    "auth = tweepy.OAuthHandler(consumer_key=CONSUMER_KEY, consumer_secret=CONSUMER_SECRET)\n",
    "auth.set_access_token(key=ACCESS_KEY, secret=ACCESS_SECRET)\n",
    "api = tweepy.API(auth, retry_count=3, retry_delay=5, retry_errors=([401, 404, 500, 503]))\n",
    "\n",
    "class StreamListener(tweepy.StreamListener):\n",
    "\n",
    "    def on_status(self, status):\n",
    "        # filter out retweets and tweets where handle is not mentioned\n",
    "        handle = 'Nigeria'.lower()\n",
    "        if status.retweeted: # or not re.findall(handle, status.text.lower()) or not re.findall('RT+', status.text.lower()):\n",
    "            return\n",
    "        description = status.user.description\n",
    "        loc = status.user.location\n",
    "        text = status.text.lower()\n",
    "        coords = status.coordinates\n",
    "        geo = status.geo\n",
    "        name = status.user.screen_name\n",
    "        user_created = status.user.created_at\n",
    "        followers = status.user.followers_count\n",
    "        id_str = status.id_str\n",
    "        created = status.created_at\n",
    "        retweets = status.retweet_count\n",
    "        bg_color = status.user.profile_background_color\n",
    "        # print(status.text)\n",
    "\n",
    "        # Perform sentiment analysis using TextBlob\n",
    "        blob = TextBlob(text)\n",
    "        sentiment = blob.sentiment\n",
    "\n",
    "        # Add files to database\n",
    "\n",
    "        if coords is not None:\n",
    "            coords = json.dumps(coords)\n",
    "\n",
    "        if geo is not None:\n",
    "            geo = json.dumps(geo)\n",
    "        table = db[\"tweets\"]\n",
    "        try:\n",
    "            table.insert(dict(\n",
    "                user_description=description,\n",
    "                user_location=loc,\n",
    "                coordinates=coords,\n",
    "                text=text,\n",
    "                user_name=name,\n",
    "                user_created=user_created,\n",
    "                user_followers=followers,\n",
    "                id_str=id_str,\n",
    "                created=created,\n",
    "                retweet_count=retweets,\n",
    "                user_bg_color=bg_color,\n",
    "                polarity=sentiment.polarity,\n",
    "                subjectivity=sentiment.subjectivity,\n",
    "            ))\n",
    "        except ProgrammingError as err:\n",
    "            print(err)\n",
    "    \n",
    "    def on_error(self, status_code):\n",
    "        if status_code == 420:\n",
    "            # returning False in on_data disconnects strea\n",
    "            return False\n"
   ]
  },
  {
   "cell_type": "code",
   "execution_count": null,
   "metadata": {},
   "outputs": [],
   "source": [
    "stream_listener = StreamListener()"
   ]
  },
  {
   "cell_type": "code",
   "execution_count": null,
   "metadata": {},
   "outputs": [],
   "source": [
    "stream_listener"
   ]
  },
  {
   "cell_type": "code",
   "execution_count": null,
   "metadata": {},
   "outputs": [],
   "source": [
    "stream = tweepy.Stream(auth=api.auth, listener=stream_listener)"
   ]
  },
  {
   "cell_type": "code",
   "execution_count": null,
   "metadata": {},
   "outputs": [],
   "source": [
    "stream.filter(track=[\"python\"])"
   ]
  }
 ],
 "metadata": {
  "kernelspec": {
   "display_name": "Python 3",
   "language": "python",
   "name": "python3"
  },
  "language_info": {
   "codemirror_mode": {
    "name": "ipython",
    "version": 3
   },
   "file_extension": ".py",
   "mimetype": "text/x-python",
   "name": "python",
   "nbconvert_exporter": "python",
   "pygments_lexer": "ipython3",
   "version": "3.7.1"
  }
 },
 "nbformat": 4,
 "nbformat_minor": 2
}
